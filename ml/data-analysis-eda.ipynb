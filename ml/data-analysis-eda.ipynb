{
 "cells": [
  {
   "cell_type": "markdown",
   "metadata": {
    "id": "TTkUTzlp473Y"
   },
   "source": [
    "The Synthetic Employee Records Dataset is a simulated dataset created to explore various data analysis and machine learning techniques in the context of human resources and employee management. This synthetic dataset mirrors the structure and characteristics of real employee data, while all the information contained within is entirely fictional and generated for illustrative purposes.\n",
    "\n",
    "# TL;DR\n",
    "* **Employee Tenure is the Strongest Predictor of Turnover:** The analysis reveals a clear and significant relationship between how long an employee has been with the company and their likelihood of leaving.\n",
    "    * **Newer employees are at a much higher risk of leaving.** Specifically, employees with less than one year of tenure have a 100% turnover rate in this dataset.\n",
    "    * The risk decreases as tenure increases. After just 30 days, an employee's odds of leaving decrease by about 14%.\n",
    "    * This suggests that retention efforts should be heavily focused on the onboarding and early employment period.\n",
    "\n",
    "* **Performance is Not a Major Factor in Turnover:** Surprisingly, an employee's performance score was not a significant predictor of whether they would leave the company. This means that both high and low performers are leaving at similar rates.\n",
    "\n",
    "* **A Predictive Model Can Identify At-Risk Employees:** A logistic regression model was built that can predict the probability of an employee leaving with high accuracy (86% accuracy and an AUC of 0.95).\n",
    "    * This model can be used to create a \"risk score\" for each employee, allowing HR and managers to proactively intervene with those at high risk of turnover.\n",
    "    * The model identifies that a small percentage of current employees (about 5%) are in the \"High Risk\" category for turnover.\n",
    "\n",
    "# Recommendations for Action:\n",
    "\n",
    "* **Focus on Early-Career Retention:** Implement and enhance programs aimed at supporting new hires during their first year. This could include mentorship programs, more frequent check-ins, and clear career pathing discussions.\n",
    "* **Don't Assume High Performers Will Stay:** Since performance isn't a key factor in turnover, it's crucial to have retention strategies for all employees, including top talent.\n",
    "* **Utilize the Predictive Model:**\n",
    "    * **For HR:** Use the model's risk scores to prioritize retention efforts and allocate resources effectively.\n",
    "    * **For Managers:** Provide managers with insights into which of their team members are at a high risk of leaving, so they can have targeted conversations and offer support.\n",
    "* **Investigate Other Potential Factors:** While tenure is the most significant predictor in this dataset, it would be beneficial to explore other potential drivers of turnover, such as compensation, work-life balance, and manager effectiveness, to get a more complete picture."
   ]
  },
  {
   "cell_type": "code",
   "execution_count": 1,
   "metadata": {
    "id": "cK_DOG4svNQz"
   },
   "outputs": [],
   "source": [
    "# Load packages and data\n",
    "import time\n",
    "import pandas as pd\n",
    "import numpy as np\n",
    "import statsmodels.api as sm\n",
    "import statsmodels.formula.api as smf\n",
    "from sklearn.metrics import accuracy_score, confusion_matrix, roc_curve, roc_auc_score\n",
    "import matplotlib.pyplot as plt\n",
    "import seaborn as sns\n",
    "from scipy import stats"
   ]
  },
  {
   "cell_type": "code",
   "execution_count": 2,
   "metadata": {},
   "outputs": [],
   "source": [
    "# load from psql db\n",
    "from sqlalchemy import create_engine, text\n",
    "\n",
    "# Database connection parameters\n",
    "DB_USER = \"postgres\"\n",
    "DB_PASSWORD = \"postgres\"\n",
    "DB_HOST = \"localhost\" \n",
    "DB_PORT = \"5432\"\n",
    "DB_NAME = \"people_analytics\""
   ]
  },
  {
   "cell_type": "code",
   "execution_count": 3,
   "metadata": {},
   "outputs": [],
   "source": [
    "def create_db_connection():\n",
    "    \"\"\"Create a database connection with retry logic.\"\"\"\n",
    "    connection_string = f\"postgresql://{DB_USER}:{DB_PASSWORD}@{DB_HOST}:{DB_PORT}/{DB_NAME}\"\n",
    "    \n",
    "    max_retries = 5\n",
    "    retry_delay = 2\n",
    "    \n",
    "    for attempt in range(max_retries):\n",
    "        try:\n",
    "            print(f\"Attempting to connect to database (attempt {attempt + 1}/{max_retries})...\")\n",
    "            engine = create_engine(connection_string)\n",
    "            # Test the connection\n",
    "            with engine.connect() as conn:\n",
    "                conn.execute(text(\"SELECT 1\"))\n",
    "            print(\"Successfully connected to database!\")\n",
    "            return engine\n",
    "        except Exception as e:\n",
    "            print(f\"Connection failed: {e}\")\n",
    "            if attempt < max_retries - 1:\n",
    "                print(f\"Retrying in {retry_delay} seconds...\")\n",
    "                time.sleep(retry_delay)\n",
    "            else:\n",
    "                print(\"Max retries reached. Unable to connect to database.\")\n",
    "                raise"
   ]
  },
  {
   "cell_type": "code",
   "execution_count": 4,
   "metadata": {},
   "outputs": [],
   "source": [
    "import pandas as pd\n",
    "\n",
    "def load_employee_data():\n",
    "    \"\"\"Load employee data from the database with specified dtypes.\"\"\"\n",
    "    engine = create_db_connection()\n",
    "    query = \"SELECT * FROM public.mrt_employee_360;\"\n",
    "\n",
    "    # Define the data types for each column based on the SQL schema\n",
    "    employee_dtypes = {\n",
    "        \"employee_id\": pd.Int32Dtype(),\n",
    "        \"first_name\": pd.StringDtype(),\n",
    "        \"last_name\": pd.StringDtype(),\n",
    "        \"email\": pd.StringDtype(),\n",
    "        \"job_title\": pd.StringDtype(),\n",
    "        \"business_unit\": pd.StringDtype(),\n",
    "        \"department_type\": pd.StringDtype(),\n",
    "        \"division\": pd.StringDtype(),\n",
    "        \"state\": pd.StringDtype(),\n",
    "        \"supervisor_name\": pd.StringDtype(),\n",
    "        \"employee_status\": pd.StringDtype(),\n",
    "        \"employee_type\": pd.StringDtype(),\n",
    "        \"pay_zone\": pd.StringDtype(),\n",
    "        \"classification_type\": pd.StringDtype(),\n",
    "        \"termination_type\": pd.StringDtype(),\n",
    "        \"termination_description\": pd.StringDtype(),\n",
    "        \"performance_score\": pd.StringDtype(),\n",
    "        \"current_rating\": pd.Int32Dtype(),\n",
    "        \"gender\": pd.StringDtype(),\n",
    "        \"race_ethnicity\": pd.StringDtype(),\n",
    "        \"marital_status\": pd.StringDtype(),\n",
    "        \"age\": pd.Int32Dtype(),\n",
    "        \"tenure_days\": pd.Int32Dtype(),\n",
    "        \"tenure_years\": pd.Int32Dtype(),\n",
    "        \"tenure_bucket\": pd.StringDtype(),\n",
    "        \"is_turnover\": pd.BooleanDtype(),\n",
    "        \"hire_year\": pd.Int32Dtype(),\n",
    "        \"hire_quarter\": pd.Int32Dtype(),\n",
    "        \"performance_score_numeric\": pd.Int32Dtype(),\n",
    "        \"is_high_performer\": pd.Int32Dtype(),\n",
    "        \"is_low_performer\": pd.Int32Dtype(),\n",
    "        \"engagement_score\": pd.Int32Dtype(),\n",
    "        \"satisfaction_score\": pd.Int32Dtype(),\n",
    "        \"work_life_balance_score\": pd.Int32Dtype(),\n",
    "        \"overall_wellbeing_score\": \"float64\",\n",
    "        \"engagement_level\": pd.StringDtype(),\n",
    "        \"satisfaction_level\": pd.StringDtype(),\n",
    "        \"work_life_balance_level\": pd.StringDtype(),\n",
    "        \"engagement_risk_score\": pd.Int32Dtype(),\n",
    "        \"engagement_risk_level\": pd.StringDtype(),\n",
    "        \"total_trainings\": pd.Int64Dtype(),\n",
    "        \"total_training_days\": pd.Int64Dtype(),\n",
    "        \"total_training_cost\": \"float64\",\n",
    "        \"training_success_rate\": \"float64\",\n",
    "        \"technical_trainings\": pd.Int64Dtype(),\n",
    "        \"leadership_trainings\": pd.Int64Dtype(),\n",
    "        \"days_since_last_training\": pd.Int32Dtype()\n",
    "    }\n",
    "\n",
    "    with engine.connect() as conn:\n",
    "        df = pd.read_sql(query, conn, dtype=employee_dtypes)\n",
    "    \n",
    "    return df"
   ]
  },
  {
   "cell_type": "code",
   "execution_count": 5,
   "metadata": {},
   "outputs": [
    {
     "name": "stdout",
     "output_type": "stream",
     "text": [
      "Attempting to connect to database (attempt 1/5)...\n",
      "Successfully connected to database!\n",
      "<class 'pandas.core.frame.DataFrame'>\n",
      "RangeIndex: 3000 entries, 0 to 2999\n",
      "Data columns (total 47 columns):\n",
      " #   Column                     Non-Null Count  Dtype  \n",
      "---  ------                     --------------  -----  \n",
      " 0   employee_id                3000 non-null   Int32  \n",
      " 1   first_name                 3000 non-null   string \n",
      " 2   last_name                  3000 non-null   string \n",
      " 3   email                      3000 non-null   string \n",
      " 4   job_title                  3000 non-null   string \n",
      " 5   business_unit              3000 non-null   string \n",
      " 6   department_type            3000 non-null   string \n",
      " 7   division                   3000 non-null   string \n",
      " 8   state                      3000 non-null   string \n",
      " 9   supervisor_name            3000 non-null   string \n",
      " 10  employee_status            3000 non-null   string \n",
      " 11  employee_type              3000 non-null   string \n",
      " 12  pay_zone                   3000 non-null   string \n",
      " 13  classification_type        3000 non-null   string \n",
      " 14  termination_type           3000 non-null   string \n",
      " 15  termination_description    1533 non-null   string \n",
      " 16  performance_score          3000 non-null   string \n",
      " 17  current_rating             3000 non-null   Int32  \n",
      " 18  gender                     3000 non-null   string \n",
      " 19  race_ethnicity             3000 non-null   string \n",
      " 20  marital_status             3000 non-null   string \n",
      " 21  age                        3000 non-null   Int32  \n",
      " 22  tenure_days                3000 non-null   Int32  \n",
      " 23  tenure_years               3000 non-null   Int32  \n",
      " 24  tenure_bucket              3000 non-null   string \n",
      " 25  is_turnover                3000 non-null   boolean\n",
      " 26  hire_year                  3000 non-null   Int32  \n",
      " 27  hire_quarter               3000 non-null   Int32  \n",
      " 28  performance_score_numeric  3000 non-null   Int32  \n",
      " 29  is_high_performer          3000 non-null   Int32  \n",
      " 30  is_low_performer           3000 non-null   Int32  \n",
      " 31  engagement_score           3000 non-null   Int32  \n",
      " 32  satisfaction_score         3000 non-null   Int32  \n",
      " 33  work_life_balance_score    3000 non-null   Int32  \n",
      " 34  overall_wellbeing_score    3000 non-null   float64\n",
      " 35  engagement_level           3000 non-null   string \n",
      " 36  satisfaction_level         3000 non-null   string \n",
      " 37  work_life_balance_level    3000 non-null   string \n",
      " 38  engagement_risk_score      3000 non-null   Int32  \n",
      " 39  engagement_risk_level      3000 non-null   string \n",
      " 40  total_trainings            3000 non-null   Int64  \n",
      " 41  total_training_days        3000 non-null   Int64  \n",
      " 42  total_training_cost        3000 non-null   float64\n",
      " 43  training_success_rate      3000 non-null   float64\n",
      " 44  technical_trainings        3000 non-null   Int64  \n",
      " 45  leadership_trainings       3000 non-null   Int64  \n",
      " 46  days_since_last_training   3000 non-null   Int32  \n",
      "dtypes: Int32(15), Int64(4), boolean(1), float64(3), string(24)\n",
      "memory usage: 964.0 KB\n"
     ]
    }
   ],
   "source": [
    "df = load_employee_data()\n",
    "df.info()"
   ]
  },
  {
   "cell_type": "code",
   "execution_count": 6,
   "metadata": {},
   "outputs": [
    {
     "data": {
      "text/html": [
       "<div>\n",
       "<style scoped>\n",
       "    .dataframe tbody tr th:only-of-type {\n",
       "        vertical-align: middle;\n",
       "    }\n",
       "\n",
       "    .dataframe tbody tr th {\n",
       "        vertical-align: top;\n",
       "    }\n",
       "\n",
       "    .dataframe thead th {\n",
       "        text-align: right;\n",
       "    }\n",
       "</style>\n",
       "<table border=\"1\" class=\"dataframe\">\n",
       "  <thead>\n",
       "    <tr style=\"text-align: right;\">\n",
       "      <th></th>\n",
       "      <th>0</th>\n",
       "    </tr>\n",
       "  </thead>\n",
       "  <tbody>\n",
       "    <tr>\n",
       "      <th>employee_id</th>\n",
       "      <td>3984</td>\n",
       "    </tr>\n",
       "    <tr>\n",
       "      <th>first_name</th>\n",
       "      <td>Christine</td>\n",
       "    </tr>\n",
       "    <tr>\n",
       "      <th>last_name</th>\n",
       "      <td>Skinner</td>\n",
       "    </tr>\n",
       "    <tr>\n",
       "      <th>email</th>\n",
       "      <td>christine.skinner@bilearner.com</td>\n",
       "    </tr>\n",
       "    <tr>\n",
       "      <th>job_title</th>\n",
       "      <td>Database Administrator</td>\n",
       "    </tr>\n",
       "    <tr>\n",
       "      <th>business_unit</th>\n",
       "      <td>EW</td>\n",
       "    </tr>\n",
       "    <tr>\n",
       "      <th>department_type</th>\n",
       "      <td>IT/IS</td>\n",
       "    </tr>\n",
       "    <tr>\n",
       "      <th>division</th>\n",
       "      <td>Wireline Construction</td>\n",
       "    </tr>\n",
       "    <tr>\n",
       "      <th>state</th>\n",
       "      <td>TX</td>\n",
       "    </tr>\n",
       "    <tr>\n",
       "      <th>supervisor_name</th>\n",
       "      <td>Thomas Ramirez</td>\n",
       "    </tr>\n",
       "    <tr>\n",
       "      <th>employee_status</th>\n",
       "      <td>Active</td>\n",
       "    </tr>\n",
       "    <tr>\n",
       "      <th>employee_type</th>\n",
       "      <td>Contract</td>\n",
       "    </tr>\n",
       "    <tr>\n",
       "      <th>pay_zone</th>\n",
       "      <td>Zone B</td>\n",
       "    </tr>\n",
       "    <tr>\n",
       "      <th>classification_type</th>\n",
       "      <td>Full-Time</td>\n",
       "    </tr>\n",
       "    <tr>\n",
       "      <th>termination_type</th>\n",
       "      <td>Retirement</td>\n",
       "    </tr>\n",
       "    <tr>\n",
       "      <th>termination_description</th>\n",
       "      <td>If require particularly civil.</td>\n",
       "    </tr>\n",
       "    <tr>\n",
       "      <th>performance_score</th>\n",
       "      <td>Fully Meets</td>\n",
       "    </tr>\n",
       "    <tr>\n",
       "      <th>current_rating</th>\n",
       "      <td>3</td>\n",
       "    </tr>\n",
       "    <tr>\n",
       "      <th>gender</th>\n",
       "      <td>Female</td>\n",
       "    </tr>\n",
       "    <tr>\n",
       "      <th>race_ethnicity</th>\n",
       "      <td>Hispanic</td>\n",
       "    </tr>\n",
       "    <tr>\n",
       "      <th>marital_status</th>\n",
       "      <td>Single</td>\n",
       "    </tr>\n",
       "    <tr>\n",
       "      <th>age</th>\n",
       "      <td>62</td>\n",
       "    </tr>\n",
       "    <tr>\n",
       "      <th>tenure_days</th>\n",
       "      <td>118</td>\n",
       "    </tr>\n",
       "    <tr>\n",
       "      <th>tenure_years</th>\n",
       "      <td>0</td>\n",
       "    </tr>\n",
       "    <tr>\n",
       "      <th>tenure_bucket</th>\n",
       "      <td>0-1 years</td>\n",
       "    </tr>\n",
       "    <tr>\n",
       "      <th>is_turnover</th>\n",
       "      <td>True</td>\n",
       "    </tr>\n",
       "    <tr>\n",
       "      <th>hire_year</th>\n",
       "      <td>2022</td>\n",
       "    </tr>\n",
       "    <tr>\n",
       "      <th>hire_quarter</th>\n",
       "      <td>1</td>\n",
       "    </tr>\n",
       "    <tr>\n",
       "      <th>performance_score_numeric</th>\n",
       "      <td>2</td>\n",
       "    </tr>\n",
       "    <tr>\n",
       "      <th>is_high_performer</th>\n",
       "      <td>0</td>\n",
       "    </tr>\n",
       "    <tr>\n",
       "      <th>is_low_performer</th>\n",
       "      <td>0</td>\n",
       "    </tr>\n",
       "    <tr>\n",
       "      <th>engagement_score</th>\n",
       "      <td>5</td>\n",
       "    </tr>\n",
       "    <tr>\n",
       "      <th>satisfaction_score</th>\n",
       "      <td>5</td>\n",
       "    </tr>\n",
       "    <tr>\n",
       "      <th>work_life_balance_score</th>\n",
       "      <td>4</td>\n",
       "    </tr>\n",
       "    <tr>\n",
       "      <th>overall_wellbeing_score</th>\n",
       "      <td>4.666667</td>\n",
       "    </tr>\n",
       "    <tr>\n",
       "      <th>engagement_level</th>\n",
       "      <td>High</td>\n",
       "    </tr>\n",
       "    <tr>\n",
       "      <th>satisfaction_level</th>\n",
       "      <td>High</td>\n",
       "    </tr>\n",
       "    <tr>\n",
       "      <th>work_life_balance_level</th>\n",
       "      <td>High</td>\n",
       "    </tr>\n",
       "    <tr>\n",
       "      <th>engagement_risk_score</th>\n",
       "      <td>0</td>\n",
       "    </tr>\n",
       "    <tr>\n",
       "      <th>engagement_risk_level</th>\n",
       "      <td>Low Risk</td>\n",
       "    </tr>\n",
       "    <tr>\n",
       "      <th>total_trainings</th>\n",
       "      <td>1</td>\n",
       "    </tr>\n",
       "    <tr>\n",
       "      <th>total_training_days</th>\n",
       "      <td>1</td>\n",
       "    </tr>\n",
       "    <tr>\n",
       "      <th>total_training_cost</th>\n",
       "      <td>202.91</td>\n",
       "    </tr>\n",
       "    <tr>\n",
       "      <th>training_success_rate</th>\n",
       "      <td>0.0</td>\n",
       "    </tr>\n",
       "    <tr>\n",
       "      <th>technical_trainings</th>\n",
       "      <td>1</td>\n",
       "    </tr>\n",
       "    <tr>\n",
       "      <th>leadership_trainings</th>\n",
       "      <td>0</td>\n",
       "    </tr>\n",
       "    <tr>\n",
       "      <th>days_since_last_training</th>\n",
       "      <td>1088</td>\n",
       "    </tr>\n",
       "  </tbody>\n",
       "</table>\n",
       "</div>"
      ],
      "text/plain": [
       "                                                         0\n",
       "employee_id                                           3984\n",
       "first_name                                       Christine\n",
       "last_name                                          Skinner\n",
       "email                      christine.skinner@bilearner.com\n",
       "job_title                           Database Administrator\n",
       "business_unit                                           EW\n",
       "department_type                                      IT/IS\n",
       "division                             Wireline Construction\n",
       "state                                                   TX\n",
       "supervisor_name                             Thomas Ramirez\n",
       "employee_status                                     Active\n",
       "employee_type                                     Contract\n",
       "pay_zone                                            Zone B\n",
       "classification_type                              Full-Time\n",
       "termination_type                                Retirement\n",
       "termination_description     If require particularly civil.\n",
       "performance_score                              Fully Meets\n",
       "current_rating                                           3\n",
       "gender                                              Female\n",
       "race_ethnicity                                    Hispanic\n",
       "marital_status                                      Single\n",
       "age                                                     62\n",
       "tenure_days                                            118\n",
       "tenure_years                                             0\n",
       "tenure_bucket                                    0-1 years\n",
       "is_turnover                                           True\n",
       "hire_year                                             2022\n",
       "hire_quarter                                             1\n",
       "performance_score_numeric                                2\n",
       "is_high_performer                                        0\n",
       "is_low_performer                                         0\n",
       "engagement_score                                         5\n",
       "satisfaction_score                                       5\n",
       "work_life_balance_score                                  4\n",
       "overall_wellbeing_score                           4.666667\n",
       "engagement_level                                      High\n",
       "satisfaction_level                                    High\n",
       "work_life_balance_level                               High\n",
       "engagement_risk_score                                    0\n",
       "engagement_risk_level                             Low Risk\n",
       "total_trainings                                          1\n",
       "total_training_days                                      1\n",
       "total_training_cost                                 202.91\n",
       "training_success_rate                                  0.0\n",
       "technical_trainings                                      1\n",
       "leadership_trainings                                     0\n",
       "days_since_last_training                              1088"
      ]
     },
     "execution_count": 6,
     "metadata": {},
     "output_type": "execute_result"
    }
   ],
   "source": [
    "df.head(1).transpose()"
   ]
  },
  {
   "cell_type": "code",
   "execution_count": 7,
   "metadata": {},
   "outputs": [
    {
     "data": {
      "text/html": [
       "<div>\n",
       "<style scoped>\n",
       "    .dataframe tbody tr th:only-of-type {\n",
       "        vertical-align: middle;\n",
       "    }\n",
       "\n",
       "    .dataframe tbody tr th {\n",
       "        vertical-align: top;\n",
       "    }\n",
       "\n",
       "    .dataframe thead th {\n",
       "        text-align: right;\n",
       "    }\n",
       "</style>\n",
       "<table border=\"1\" class=\"dataframe\">\n",
       "  <thead>\n",
       "    <tr style=\"text-align: right;\">\n",
       "      <th></th>\n",
       "      <th>tenure_days</th>\n",
       "      <th>tenure_years</th>\n",
       "    </tr>\n",
       "  </thead>\n",
       "  <tbody>\n",
       "    <tr>\n",
       "      <th>0</th>\n",
       "      <td>118</td>\n",
       "      <td>0</td>\n",
       "    </tr>\n",
       "    <tr>\n",
       "      <th>1</th>\n",
       "      <td>10</td>\n",
       "      <td>0</td>\n",
       "    </tr>\n",
       "    <tr>\n",
       "      <th>2</th>\n",
       "      <td>1004</td>\n",
       "      <td>2</td>\n",
       "    </tr>\n",
       "    <tr>\n",
       "      <th>3</th>\n",
       "      <td>1702</td>\n",
       "      <td>4</td>\n",
       "    </tr>\n",
       "    <tr>\n",
       "      <th>4</th>\n",
       "      <td>1099</td>\n",
       "      <td>3</td>\n",
       "    </tr>\n",
       "    <tr>\n",
       "      <th>5</th>\n",
       "      <td>1072</td>\n",
       "      <td>2</td>\n",
       "    </tr>\n",
       "    <tr>\n",
       "      <th>6</th>\n",
       "      <td>347</td>\n",
       "      <td>0</td>\n",
       "    </tr>\n",
       "    <tr>\n",
       "      <th>7</th>\n",
       "      <td>284</td>\n",
       "      <td>0</td>\n",
       "    </tr>\n",
       "    <tr>\n",
       "      <th>8</th>\n",
       "      <td>254</td>\n",
       "      <td>0</td>\n",
       "    </tr>\n",
       "    <tr>\n",
       "      <th>9</th>\n",
       "      <td>503</td>\n",
       "      <td>1</td>\n",
       "    </tr>\n",
       "    <tr>\n",
       "      <th>10</th>\n",
       "      <td>335</td>\n",
       "      <td>0</td>\n",
       "    </tr>\n",
       "    <tr>\n",
       "      <th>11</th>\n",
       "      <td>152</td>\n",
       "      <td>0</td>\n",
       "    </tr>\n",
       "    <tr>\n",
       "      <th>12</th>\n",
       "      <td>468</td>\n",
       "      <td>1</td>\n",
       "    </tr>\n",
       "    <tr>\n",
       "      <th>13</th>\n",
       "      <td>756</td>\n",
       "      <td>2</td>\n",
       "    </tr>\n",
       "    <tr>\n",
       "      <th>14</th>\n",
       "      <td>1539</td>\n",
       "      <td>4</td>\n",
       "    </tr>\n",
       "    <tr>\n",
       "      <th>15</th>\n",
       "      <td>1767</td>\n",
       "      <td>4</td>\n",
       "    </tr>\n",
       "    <tr>\n",
       "      <th>16</th>\n",
       "      <td>856</td>\n",
       "      <td>2</td>\n",
       "    </tr>\n",
       "    <tr>\n",
       "      <th>17</th>\n",
       "      <td>434</td>\n",
       "      <td>1</td>\n",
       "    </tr>\n",
       "    <tr>\n",
       "      <th>18</th>\n",
       "      <td>51</td>\n",
       "      <td>0</td>\n",
       "    </tr>\n",
       "    <tr>\n",
       "      <th>19</th>\n",
       "      <td>2427</td>\n",
       "      <td>6</td>\n",
       "    </tr>\n",
       "    <tr>\n",
       "      <th>20</th>\n",
       "      <td>851</td>\n",
       "      <td>2</td>\n",
       "    </tr>\n",
       "    <tr>\n",
       "      <th>21</th>\n",
       "      <td>1678</td>\n",
       "      <td>4</td>\n",
       "    </tr>\n",
       "    <tr>\n",
       "      <th>22</th>\n",
       "      <td>354</td>\n",
       "      <td>0</td>\n",
       "    </tr>\n",
       "    <tr>\n",
       "      <th>23</th>\n",
       "      <td>7</td>\n",
       "      <td>0</td>\n",
       "    </tr>\n",
       "    <tr>\n",
       "      <th>24</th>\n",
       "      <td>1449</td>\n",
       "      <td>3</td>\n",
       "    </tr>\n",
       "    <tr>\n",
       "      <th>25</th>\n",
       "      <td>621</td>\n",
       "      <td>1</td>\n",
       "    </tr>\n",
       "    <tr>\n",
       "      <th>26</th>\n",
       "      <td>2293</td>\n",
       "      <td>6</td>\n",
       "    </tr>\n",
       "    <tr>\n",
       "      <th>27</th>\n",
       "      <td>6</td>\n",
       "      <td>0</td>\n",
       "    </tr>\n",
       "    <tr>\n",
       "      <th>28</th>\n",
       "      <td>727</td>\n",
       "      <td>1</td>\n",
       "    </tr>\n",
       "    <tr>\n",
       "      <th>29</th>\n",
       "      <td>1092</td>\n",
       "      <td>2</td>\n",
       "    </tr>\n",
       "    <tr>\n",
       "      <th>30</th>\n",
       "      <td>1554</td>\n",
       "      <td>4</td>\n",
       "    </tr>\n",
       "    <tr>\n",
       "      <th>31</th>\n",
       "      <td>1145</td>\n",
       "      <td>3</td>\n",
       "    </tr>\n",
       "    <tr>\n",
       "      <th>32</th>\n",
       "      <td>2182</td>\n",
       "      <td>5</td>\n",
       "    </tr>\n",
       "    <tr>\n",
       "      <th>33</th>\n",
       "      <td>2523</td>\n",
       "      <td>6</td>\n",
       "    </tr>\n",
       "    <tr>\n",
       "      <th>34</th>\n",
       "      <td>126</td>\n",
       "      <td>0</td>\n",
       "    </tr>\n",
       "    <tr>\n",
       "      <th>35</th>\n",
       "      <td>303</td>\n",
       "      <td>0</td>\n",
       "    </tr>\n",
       "    <tr>\n",
       "      <th>36</th>\n",
       "      <td>572</td>\n",
       "      <td>1</td>\n",
       "    </tr>\n",
       "    <tr>\n",
       "      <th>37</th>\n",
       "      <td>1838</td>\n",
       "      <td>5</td>\n",
       "    </tr>\n",
       "    <tr>\n",
       "      <th>38</th>\n",
       "      <td>324</td>\n",
       "      <td>0</td>\n",
       "    </tr>\n",
       "    <tr>\n",
       "      <th>39</th>\n",
       "      <td>886</td>\n",
       "      <td>2</td>\n",
       "    </tr>\n",
       "    <tr>\n",
       "      <th>40</th>\n",
       "      <td>4</td>\n",
       "      <td>0</td>\n",
       "    </tr>\n",
       "    <tr>\n",
       "      <th>41</th>\n",
       "      <td>449</td>\n",
       "      <td>1</td>\n",
       "    </tr>\n",
       "    <tr>\n",
       "      <th>42</th>\n",
       "      <td>1288</td>\n",
       "      <td>3</td>\n",
       "    </tr>\n",
       "    <tr>\n",
       "      <th>43</th>\n",
       "      <td>351</td>\n",
       "      <td>0</td>\n",
       "    </tr>\n",
       "    <tr>\n",
       "      <th>44</th>\n",
       "      <td>751</td>\n",
       "      <td>2</td>\n",
       "    </tr>\n",
       "    <tr>\n",
       "      <th>45</th>\n",
       "      <td>1610</td>\n",
       "      <td>4</td>\n",
       "    </tr>\n",
       "    <tr>\n",
       "      <th>46</th>\n",
       "      <td>1097</td>\n",
       "      <td>3</td>\n",
       "    </tr>\n",
       "    <tr>\n",
       "      <th>47</th>\n",
       "      <td>1668</td>\n",
       "      <td>4</td>\n",
       "    </tr>\n",
       "    <tr>\n",
       "      <th>48</th>\n",
       "      <td>1883</td>\n",
       "      <td>5</td>\n",
       "    </tr>\n",
       "    <tr>\n",
       "      <th>49</th>\n",
       "      <td>775</td>\n",
       "      <td>2</td>\n",
       "    </tr>\n",
       "  </tbody>\n",
       "</table>\n",
       "</div>"
      ],
      "text/plain": [
       "    tenure_days  tenure_years\n",
       "0           118             0\n",
       "1            10             0\n",
       "2          1004             2\n",
       "3          1702             4\n",
       "4          1099             3\n",
       "5          1072             2\n",
       "6           347             0\n",
       "7           284             0\n",
       "8           254             0\n",
       "9           503             1\n",
       "10          335             0\n",
       "11          152             0\n",
       "12          468             1\n",
       "13          756             2\n",
       "14         1539             4\n",
       "15         1767             4\n",
       "16          856             2\n",
       "17          434             1\n",
       "18           51             0\n",
       "19         2427             6\n",
       "20          851             2\n",
       "21         1678             4\n",
       "22          354             0\n",
       "23            7             0\n",
       "24         1449             3\n",
       "25          621             1\n",
       "26         2293             6\n",
       "27            6             0\n",
       "28          727             1\n",
       "29         1092             2\n",
       "30         1554             4\n",
       "31         1145             3\n",
       "32         2182             5\n",
       "33         2523             6\n",
       "34          126             0\n",
       "35          303             0\n",
       "36          572             1\n",
       "37         1838             5\n",
       "38          324             0\n",
       "39          886             2\n",
       "40            4             0\n",
       "41          449             1\n",
       "42         1288             3\n",
       "43          351             0\n",
       "44          751             2\n",
       "45         1610             4\n",
       "46         1097             3\n",
       "47         1668             4\n",
       "48         1883             5\n",
       "49          775             2"
      ]
     },
     "execution_count": 7,
     "metadata": {},
     "output_type": "execute_result"
    }
   ],
   "source": [
    "df.head(50)[[\"tenure_days\", \"tenure_years\"]]"
   ]
  },
  {
   "cell_type": "markdown",
   "metadata": {
    "id": "k2MXTmRh473b"
   },
   "source": [
    "# Step 1: Data Preparation with Pandas"
   ]
  },
  {
   "cell_type": "code",
   "execution_count": 8,
   "metadata": {},
   "outputs": [
    {
     "name": "stdout",
     "output_type": "stream",
     "text": [
      "\n",
      "Turnover distribution:\n",
      "   Turnover  percentage\n",
      "0      True        51.1\n",
      "1     False        48.9\n"
     ]
    }
   ],
   "source": [
    "# Check the distribution of the Turnover variable\n",
    "turnover_summary = df['is_turnover'].value_counts(normalize=True).mul(100).round(1).reset_index()\n",
    "turnover_summary.columns = ['Turnover', 'percentage']\n",
    "print(\"\\nTurnover distribution:\")\n",
    "print(turnover_summary)"
   ]
  },
  {
   "cell_type": "code",
   "execution_count": 9,
   "metadata": {},
   "outputs": [
    {
     "name": "stdout",
     "output_type": "stream",
     "text": [
      "\n",
      "Tenure summary statistics:\n",
      "count         3000.0\n",
      "mean     1044.685667\n",
      "std       738.176971\n",
      "min              0.0\n",
      "25%            383.0\n",
      "50%            955.5\n",
      "75%           1621.0\n",
      "max           2549.0\n",
      "Name: tenure_days, dtype: Float64\n"
     ]
    }
   ],
   "source": [
    "# Summary statistics for tenure\n",
    "print(\"\\nTenure summary statistics:\")\n",
    "print(df['tenure_days'].describe())"
   ]
  },
  {
   "cell_type": "code",
   "execution_count": 10,
   "metadata": {},
   "outputs": [
    {
     "name": "stdout",
     "output_type": "stream",
     "text": [
      "\n",
      "Tenure bucket distribution:\n",
      "  tenure_bucket  percentage\n",
      "0      3+ years        43.8\n",
      "1     1-3 years        32.1\n",
      "2     0-1 years        24.1\n",
      "\n",
      "Age summary statistics:\n",
      "count       3000.0\n",
      "mean     53.388333\n",
      "std      17.689144\n",
      "min           24.0\n",
      "25%           37.0\n",
      "50%           53.0\n",
      "75%           69.0\n",
      "max           83.0\n",
      "Name: age, dtype: Float64\n"
     ]
    }
   ],
   "source": [
    "# Check the distribution\n",
    "tenure_cat_summary = df['tenure_bucket'].value_counts(normalize=True).mul(100).round(1).reset_index()\n",
    "tenure_cat_summary.columns = ['tenure_bucket', 'percentage']\n",
    "print(\"\\nTenure bucket distribution:\")\n",
    "print(tenure_cat_summary)\n",
    "\n",
    "# Check age distribution\n",
    "print(\"\\nAge summary statistics:\")\n",
    "print(df['age'].describe())"
   ]
  },
  {
   "cell_type": "markdown",
   "metadata": {
    "id": "k0NqN-zt473c"
   },
   "source": [
    "# Step 2: Exploratory Analysis"
   ]
  },
  {
   "cell_type": "code",
   "execution_count": 11,
   "metadata": {},
   "outputs": [
    {
     "name": "stdout",
     "output_type": "stream",
     "text": [
      "Overall Turnover Rate: 51.10%\n"
     ]
    }
   ],
   "source": [
    "# Overall turnover rate\n",
    "overall_turnover_rate = df['is_turnover'].mean() * 100\n",
    "print(f\"Overall Turnover Rate: {overall_turnover_rate:.2f}%\")"
   ]
  },
  {
   "cell_type": "code",
   "execution_count": 12,
   "metadata": {},
   "outputs": [
    {
     "name": "stdout",
     "output_type": "stream",
     "text": [
      "\n",
      "Turnover by Performance Score:\n",
      "                   count  turnover_rate\n",
      "performance_score                      \n",
      "PIP                   93          52.69\n",
      "Exceeds              369          51.76\n",
      "Needs Improvement    177          51.41\n",
      "Fully Meets         2361          50.91\n"
     ]
    }
   ],
   "source": [
    "# Turnover by performance score - potential predictor\n",
    "performance_turnover = df.groupby('performance_score')['is_turnover'].agg(['count', 'mean']).rename(columns={'mean': 'turnover_rate'})\n",
    "performance_turnover['turnover_rate'] = (performance_turnover['turnover_rate'] * 100).round(2)\n",
    "print(\"\\nTurnover by Performance Score:\")\n",
    "print(performance_turnover.sort_values('turnover_rate', ascending=False))"
   ]
  },
  {
   "cell_type": "code",
   "execution_count": 13,
   "metadata": {},
   "outputs": [
    {
     "name": "stdout",
     "output_type": "stream",
     "text": [
      "\n",
      "Turnover by Tenure Category:\n",
      "               count  turnover_rate\n",
      "tenure_bucket                      \n",
      "0-1 years        724          100.0\n",
      "1-3 years        963          67.91\n",
      "3+ years        1313          11.81\n"
     ]
    }
   ],
   "source": [
    "# Turnover by tenure bucket\n",
    "tenure_turnover = df.groupby('tenure_bucket')['is_turnover'].agg(['count', 'mean']).rename(columns={'mean': 'turnover_rate'})\n",
    "tenure_turnover['turnover_rate'] = (tenure_turnover['turnover_rate'] * 100).round(2)\n",
    "print(\"\\nTurnover by Tenure Category:\")\n",
    "print(tenure_turnover)"
   ]
  },
  {
   "cell_type": "code",
   "execution_count": 14,
   "metadata": {
    "colab": {
     "base_uri": "https://localhost:8080/"
    },
    "id": "D6k0Q7OL473c",
    "outputId": "512b82b4-c33b-4946-dac2-52facbd665f9"
   },
   "outputs": [
    {
     "name": "stdout",
     "output_type": "stream",
     "text": [
      "\n",
      "Turnover by Employee Type:\n",
      "               count  turnover_rate\n",
      "employee_type                      \n",
      "Contract        1008          50.99\n",
      "Full-Time       1038          51.45\n",
      "Part-Time        954          50.84\n"
     ]
    }
   ],
   "source": [
    "# Turnover by employee type - fairly even\n",
    "etype_turnover = df.groupby('employee_type')['is_turnover'].agg(['count', 'mean']).rename(columns={'mean': 'turnover_rate'})\n",
    "etype_turnover['turnover_rate'] = (etype_turnover['turnover_rate'] * 100).round(2)\n",
    "print(\"\\nTurnover by Employee Type:\")\n",
    "print(etype_turnover)"
   ]
  },
  {
   "cell_type": "code",
   "execution_count": 15,
   "metadata": {},
   "outputs": [],
   "source": [
    "is_turnover_int = df['is_turnover'].astype(int)  # Convert boolean to int for modeling"
   ]
  },
  {
   "cell_type": "markdown",
   "metadata": {
    "id": "CNYZRtbT473d"
   },
   "source": [
    "# Step 3: Model Building"
   ]
  },
  {
   "cell_type": "code",
   "execution_count": 16,
   "metadata": {},
   "outputs": [
    {
     "name": "stdout",
     "output_type": "stream",
     "text": [
      "Optimization terminated successfully.\n",
      "         Current function value: 0.283831\n",
      "         Iterations 8\n"
     ]
    }
   ],
   "source": [
    "# Use simple logistic regression to model turnover based on tenure\n",
    "model_tenure = smf.logit('is_turnover_int ~ tenure_days', data=df).fit()"
   ]
  },
  {
   "cell_type": "code",
   "execution_count": 17,
   "metadata": {},
   "outputs": [
    {
     "name": "stdout",
     "output_type": "stream",
     "text": [
      "                           Logit Regression Results                           \n",
      "==============================================================================\n",
      "Dep. Variable:        is_turnover_int   No. Observations:                 3000\n",
      "Model:                          Logit   Df Residuals:                     2998\n",
      "Method:                           MLE   Df Model:                            1\n",
      "Date:                Thu, 31 Jul 2025   Pseudo R-squ.:                  0.5904\n",
      "Time:                        13:13:08   Log-Likelihood:                -851.49\n",
      "converged:                       True   LL-Null:                       -2078.7\n",
      "Covariance Type:            nonrobust   LLR p-value:                     0.000\n",
      "===============================================================================\n",
      "                  coef    std err          z      P>|z|      [0.025      0.975]\n",
      "-------------------------------------------------------------------------------\n",
      "Intercept       4.7706      0.182     26.176      0.000       4.413       5.128\n",
      "tenure_days    -0.0048      0.000    -26.850      0.000      -0.005      -0.004\n",
      "===============================================================================\n"
     ]
    }
   ],
   "source": [
    "# Get summary with coefficients\n",
    "print(model_tenure.summary())"
   ]
  },
  {
   "cell_type": "code",
   "execution_count": 18,
   "metadata": {},
   "outputs": [
    {
     "name": "stdout",
     "output_type": "stream",
     "text": [
      "\n",
      "Odds Ratios:\n",
      "                  2.5%       97.5%          OR\n",
      "Intercept    82.548016  168.644860  117.988553\n",
      "tenure_days   0.994900    0.995593    0.995246\n"
     ]
    }
   ],
   "source": [
    "# Get odds ratios and confidence intervals\n",
    "params = model_tenure.params\n",
    "conf = model_tenure.conf_int()\n",
    "conf['OR'] = params\n",
    "conf.columns = ['2.5%', '97.5%', 'OR']\n",
    "print(\"\\nOdds Ratios:\")\n",
    "print(np.exp(conf))"
   ]
  },
  {
   "cell_type": "code",
   "execution_count": 19,
   "metadata": {},
   "outputs": [
    {
     "name": "stdout",
     "output_type": "stream",
     "text": [
      "\n",
      "Each additional day of tenure reduces turnover odds by a factor of 0.995.\n",
      "This is a -0.5% reduction in odds per day.\n"
     ]
    }
   ],
   "source": [
    "# Interpretation\n",
    "odds_ratio_day = np.exp(params['tenure_days'])\n",
    "print(f\"\\nEach additional day of tenure reduces turnover odds by a factor of {odds_ratio_day:.3f}.\")\n",
    "print(f\"This is a {(odds_ratio_day - 1) * 100:.1f}% reduction in odds per day.\")"
   ]
  },
  {
   "cell_type": "code",
   "execution_count": 20,
   "metadata": {
    "colab": {
     "base_uri": "https://localhost:8080/"
    },
    "id": "bO52zmTQ473d",
    "outputId": "05254d91-0ec8-48e0-f74c-782b2284c7e3"
   },
   "outputs": [
    {
     "name": "stdout",
     "output_type": "stream",
     "text": [
      "\n",
      "After 30 days, an employee's odds of leaving are 0.867 of the original.\n",
      "This corresponds to a -13.3% decrease in odds.\n"
     ]
    }
   ],
   "source": [
    "# More meaningful interpretation (per 30 days)\n",
    "odds_ratio_30days = odds_ratio_day ** 30\n",
    "print(f\"\\nAfter 30 days, an employee's odds of leaving are {odds_ratio_30days:.3f} of the original.\")\n",
    "print(f\"This corresponds to a {(odds_ratio_30days - 1) * 100:.1f}% decrease in odds.\")"
   ]
  },
  {
   "cell_type": "markdown",
   "metadata": {
    "id": "1vl2LijW473e"
   },
   "source": [
    "## About the output\n",
    "\n",
    "* `z` in the summary is the z-score; a negative value indicates that as tenure increases, the log-odds of turnover decrease.\n",
    "* The odds ratio (`OR`) for `Tenure_Days` is the exponentiated coefficient (`exp(coef)`). Here it's 0.995.\n",
    "* Interpretation of the odds ratio (0.995) = for each additional day an employee works, their odds of turnover decrease by being multiplied by 0.995.\n",
    "\n",
    "## Example of output\n",
    "\n",
    "**After 1 day**\n",
    "* (0.995 - 1) * 100 = -0.5\n",
    "* Each day of working reduces turnover odds by 0.5%.\n",
    "  \n",
    "**After 30 days**\n",
    "* 0.995^30 = 0.861\n",
    "* After 30 days, an employee's odds of leaving are 86.1% of the original (a 13.9% decrease).\n",
    "\n",
    "**Day 1 vs. Day 30**\n",
    "* Day 1: A new employee has some baseline odds of leaving, let's say 2:1 odds = 67% probability of leaving.\n",
    "* Day 31: That same employee now has odds that are 13.9% lower after 30 days: 2 × 0.861 = 1.72:1 odds = 63% probability of leaving.\n",
    "\n",
    "## Scientific writeup\n",
    "Tenure was significantly associated with turnover (β = -0.005, SE = 0.0002, p < 0.001). The odds ratio of 0.995 (95% CI [0.995, 0.996]) indicates that each additional day of tenure reduces turnover odds by 0.5%."
   ]
  },
  {
   "cell_type": "markdown",
   "metadata": {
    "id": "nhF4Sagg473f"
   },
   "source": [
    "# Step 4: Multivariate Model Building"
   ]
  },
  {
   "cell_type": "code",
   "execution_count": 21,
   "metadata": {
    "colab": {
     "base_uri": "https://localhost:8080/"
    },
    "id": "PtQXv-uh473f",
    "outputId": "d5e8163d-41a0-4666-8601-ccd66c8b3f72"
   },
   "outputs": [
    {
     "name": "stdout",
     "output_type": "stream",
     "text": [
      "Optimization terminated successfully.\n",
      "         Current function value: 0.283077\n",
      "         Iterations 8\n",
      "                           Logit Regression Results                           \n",
      "==============================================================================\n",
      "Dep. Variable:        is_turnover_int   No. Observations:                 3000\n",
      "Model:                          Logit   Df Residuals:                     2991\n",
      "Method:                           MLE   Df Model:                            8\n",
      "Date:                Thu, 31 Jul 2025   Pseudo R-squ.:                  0.5915\n",
      "Time:                        13:13:11   Log-Likelihood:                -849.23\n",
      "converged:                       True   LL-Null:                       -2078.7\n",
      "Covariance Type:            nonrobust   LLR p-value:                     0.000\n",
      "=============================================================================================\n",
      "                                coef    std err          z      P>|z|      [0.025      0.975]\n",
      "---------------------------------------------------------------------------------------------\n",
      "Intercept                     4.9707      0.461     10.774      0.000       4.066       5.875\n",
      "tenure_days                  -0.0048      0.000    -26.829      0.000      -0.005      -0.004\n",
      "performance_score_numeric     0.0236      0.091      0.259      0.796      -0.155       0.203\n",
      "age                           0.0005      0.003      0.145      0.884      -0.006       0.007\n",
      "current_rating               -0.0081      0.094     -0.086      0.931      -0.193       0.177\n",
      "is_high_performer             0.0855      0.227      0.376      0.707      -0.360       0.531\n",
      "engagement_score              0.0240      0.043      0.555      0.579      -0.061       0.109\n",
      "satisfaction_score           -0.0253      0.044     -0.575      0.565      -0.111       0.061\n",
      "work_life_balance_score      -0.0838      0.043     -1.928      0.054      -0.169       0.001\n",
      "=============================================================================================\n"
     ]
    }
   ],
   "source": [
    "formula_mult = 'is_turnover_int ~ tenure_days + performance_score_numeric + age + current_rating + is_high_performer + engagement_score + satisfaction_score + work_life_balance_score'\n",
    "model_mult = smf.logit(formula=formula_mult, data=df).fit()\n",
    "print(model_mult.summary())"
   ]
  },
  {
   "cell_type": "code",
   "execution_count": 22,
   "metadata": {},
   "outputs": [
    {
     "name": "stdout",
     "output_type": "stream",
     "text": [
      "\n",
      "Multivariate Model Odds Ratios:\n",
      "                                2.5%       97.5%          OR   p-value\n",
      "Intercept                  58.345355  356.003819  144.122064  1.000000\n",
      "tenure_days                 0.994887    0.995582    0.995234  1.000000\n",
      "work_life_balance_score     0.844505    1.001400    0.919613  1.055362\n",
      "satisfaction_score          0.894631    1.062711    0.975056  1.759809\n",
      "engagement_score            0.941062    1.114881    1.024291  1.783977\n",
      "is_high_performer           0.697632    1.700830    1.089290  2.027435\n",
      "performance_score_numeric   0.856140    1.224500    1.023886  2.216576\n",
      "age                         0.993676    1.007387    1.000508  2.421648\n",
      "current_rating              0.824640    1.193094    0.991904  2.537673\n"
     ]
    }
   ],
   "source": [
    "# Get results (odds ratios)\n",
    "params_mult = model_mult.params\n",
    "conf_mult = model_mult.conf_int()\n",
    "conf_mult['OR'] = params_mult\n",
    "conf_mult['p-value'] = model_mult.pvalues\n",
    "conf_mult.columns = ['2.5%', '97.5%', 'OR', 'p-value']\n",
    "odds_ratios_mult = np.exp(conf_mult)\n",
    "\n",
    "print(\"\\nMultivariate Model Odds Ratios:\")\n",
    "print(odds_ratios_mult.sort_values(by='p-value'))\n",
    "# Looks like tenure days and performance score are the only significant predictors."
   ]
  },
  {
   "cell_type": "code",
   "execution_count": 23,
   "metadata": {},
   "outputs": [
    {
     "name": "stdout",
     "output_type": "stream",
     "text": [
      "Optimization terminated successfully.\n",
      "         Current function value: 0.283822\n",
      "         Iterations 8\n",
      "\n",
      "Performance Model Summary:\n",
      "                           Logit Regression Results                           \n",
      "==============================================================================\n",
      "Dep. Variable:        is_turnover_int   No. Observations:                 3000\n",
      "Model:                          Logit   Df Residuals:                     2997\n",
      "Method:                           MLE   Df Model:                            2\n",
      "Date:                Thu, 31 Jul 2025   Pseudo R-squ.:                  0.5904\n",
      "Time:                        13:13:13   Log-Likelihood:                -851.47\n",
      "converged:                       True   LL-Null:                       -2078.7\n",
      "Covariance Type:            nonrobust   LLR p-value:                     0.000\n",
      "=============================================================================================\n",
      "                                coef    std err          z      P>|z|      [0.025      0.975]\n",
      "---------------------------------------------------------------------------------------------\n",
      "Intercept                     4.7289      0.254     18.604      0.000       4.231       5.227\n",
      "tenure_days                  -0.0048      0.000    -26.854      0.000      -0.005      -0.004\n",
      "performance_score_numeric     0.0214      0.091      0.234      0.815      -0.157       0.200\n",
      "=============================================================================================\n",
      "\n",
      "Model Fit Comparison:\n",
      "                  Model          AIC          BIC\n",
      "0           Tenure Only  1706.988846  1719.001581\n",
      "1  Tenure + Performance  1708.933915  1726.953018\n",
      "2            Full Model  1716.463828  1770.521136\n"
     ]
    }
   ],
   "source": [
    "# Create tenure + performance model\n",
    "formula_perf = 'is_turnover_int ~ tenure_days + performance_score_numeric'\n",
    "model_perf = smf.logit(formula=formula_perf, data=df).fit()\n",
    "\n",
    "# Get its results\n",
    "print(\"\\nPerformance Model Summary:\")\n",
    "print(model_perf.summary())\n",
    "\n",
    "# Compare model fit statistics (AIC, BIC)\n",
    "model_comparison = pd.DataFrame({\n",
    "    'Model': ['Tenure Only', 'Tenure + Performance', 'Full Model'],\n",
    "    'AIC': [model_tenure.aic, model_perf.aic, model_mult.aic],\n",
    "    'BIC': [model_tenure.bic, model_perf.bic, model_mult.bic]\n",
    "})\n",
    "print(\"\\nModel Fit Comparison:\")\n",
    "print(model_comparison)\n",
    "# Lower AIC and BIC indicate a better fit relative to model complexity.\n",
    "# The tenure + performance model has a slightly lower AIC/BIC than tenure only."
   ]
  },
  {
   "cell_type": "markdown",
   "metadata": {
    "id": "zYCqGq87473h"
   },
   "source": [
    "## Test of Model Comparison\n",
    "\n",
    "Here we are testing if the performance model (performance + tenure as predictors) fits the data significantly better than the tenure model (tenure as the only predictor). This is a Likelihood Ratio Test.\n",
    "\n",
    "The null hypothesis (H0) is that the smaller model (tenure_continuous) is correct, meaning adding the performance score variable does not significantly improve model fit.\n",
    "\n",
    "**Option 1**\n",
    "\n",
    "If the result is significant (p-value < 0.05), we REJECT the null hypothesis. This means the larger model is a significant improvement, and we should include the performance score variable.\n",
    "\n",
    "**Option 2**\n",
    "\n",
    "If the result is non-significant (p-value >= 0.05), we FAIL TO REJECT the null hypothesis. This means the added complexity is not justified by the improvement in fit, and we should stick with the simpler (tenure only) model."
   ]
  },
  {
   "cell_type": "code",
   "execution_count": 24,
   "metadata": {
    "colab": {
     "base_uri": "https://localhost:8080/"
    },
    "id": "3fPC036n473h",
    "outputId": "599d9a1a-1e99-4254-eb1b-4aa426402b34"
   },
   "outputs": [
    {
     "name": "stdout",
     "output_type": "stream",
     "text": [
      "Likelihood Ratio Test Statistic: 0.0549\n",
      "Degrees of Freedom: 1.0\n",
      "P-value: 0.8147\n"
     ]
    }
   ],
   "source": [
    "# In Python, we can perform a likelihood ratio test manually.\n",
    "lr_stat = 2 * (model_perf.llf - model_tenure.llf)\n",
    "df_diff = model_perf.df_model - model_tenure.df_model\n",
    "p_value = stats.chi2.sf(lr_stat, df_diff)\n",
    "\n",
    "print(f\"Likelihood Ratio Test Statistic: {lr_stat:.4f}\")\n",
    "print(f\"Degrees of Freedom: {df_diff}\")\n",
    "print(f\"P-value: {p_value:.4f}\")\n",
    "\n",
    "# The result is non-significant (p = 0.2016), so we continue with the simpler tenure model."
   ]
  },
  {
   "cell_type": "markdown",
   "metadata": {
    "id": "HEmfuulT473h"
   },
   "source": [
    "# Step 5: Predictions and Insights"
   ]
  },
  {
   "cell_type": "code",
   "execution_count": 25,
   "metadata": {},
   "outputs": [
    {
     "name": "stdout",
     "output_type": "stream",
     "text": [
      "Distribution of Predicted Probabilities:\n",
      "count    3000.000000\n",
      "mean        0.511000\n",
      "std         0.402151\n",
      "min         0.000626\n",
      "25%         0.049578\n",
      "50%         0.554211\n",
      "75%         0.950056\n",
      "max         0.991596\n",
      "Name: predicted_prob, dtype: float64\n"
     ]
    }
   ],
   "source": [
    "# Add predicted probabilities from the simple tenure model\n",
    "df['predicted_prob'] = model_tenure.predict(df)\n",
    "df['predicted_class'] = (df['predicted_prob'] > 0.5).astype(int)\n",
    "\n",
    "# Distribution of predicted probabilities\n",
    "print(\"Distribution of Predicted Probabilities:\")\n",
    "print(df['predicted_prob'].describe())"
   ]
  },
  {
   "cell_type": "code",
   "execution_count": 26,
   "metadata": {},
   "outputs": [
    {
     "name": "stdout",
     "output_type": "stream",
     "text": [
      "\n",
      "Confusion Matrix:\n",
      "[[1232  235]\n",
      " [ 193 1340]]\n",
      "\n",
      "Classification Accuracy: 0.8573\n"
     ]
    }
   ],
   "source": [
    "# Create a confusion matrix\n",
    "# Note: The order is (Actual, Predicted)\n",
    "conf_matrix = confusion_matrix(df['is_turnover'], df['predicted_class'])\n",
    "print(\"\\nConfusion Matrix:\")\n",
    "print(conf_matrix)\n",
    "\n",
    "# Calculate classification accuracy\n",
    "accuracy = accuracy_score(df['is_turnover'], df['predicted_class'])\n",
    "print(f\"\\nClassification Accuracy: {accuracy:.4f}\")\n",
    "# Interpretation: When we use a 0.50 threshold, the model is correct about 86% of the time."
   ]
  },
  {
   "cell_type": "code",
   "execution_count": 27,
   "metadata": {
    "colab": {
     "base_uri": "https://localhost:8080/"
    },
    "id": "9VxGLk5o473h",
    "outputId": "c0097b8a-8974-4cb2-cab5-fdec41b14c33"
   },
   "outputs": [
    {
     "name": "stdout",
     "output_type": "stream",
     "text": [
      "\n",
      "Risk Category Summary for Current Employees:\n",
      "risk_cat\n",
      "Low Risk       73.9\n",
      "Medium Risk    20.9\n",
      "High Risk       5.2\n",
      "Name: proportion, dtype: float64\n"
     ]
    }
   ],
   "source": [
    "# Create risk categories\n",
    "conditions = [\n",
    "    df['predicted_prob'] >= 0.7,\n",
    "    df['predicted_prob'] >= 0.3\n",
    "]\n",
    "choices = ['High Risk', 'Medium Risk']\n",
    "df['risk_cat'] = np.select(conditions, choices, default='Low Risk')\n",
    "\n",
    "# Summary by risk level for current employees\n",
    "risk_summary = df[df['is_turnover'] == 0]['risk_cat'].value_counts(normalize=True).mul(100).round(1)\n",
    "print(\"\\nRisk Category Summary for Current Employees:\")\n",
    "print(risk_summary)"
   ]
  },
  {
   "cell_type": "code",
   "execution_count": 28,
   "metadata": {
    "colab": {
     "base_uri": "https://localhost:8080/",
     "height": 581
    },
    "id": "m1yFUTTQ473i",
    "outputId": "694d53d1-3e24-4e8e-b34b-837d0283ceeb"
   },
   "outputs": [
    {
     "data": {
      "image/png": "[encoded data removed]",
      "text/plain": [
       "<Figure size 1000x700 with 1 Axes>"
      ]
     },
     "metadata": {},
     "output_type": "display_data"
    }
   ],
   "source": [
    "# Plotting with Seaborn\n",
    "plt.figure(figsize=(10, 7))\n",
    "sns.scatterplot(data=df, x='tenure_days', y='predicted_prob', hue='is_turnover', alpha=0.6)\n",
    "\n",
    "plt.title('Predicted Turnover Probability by Tenure')\n",
    "plt.xlabel('Tenure (Days)')\n",
    "plt.ylabel('Predicted Probability of Turnover')\n",
    "plt.legend(title='Actual Turnover')\n",
    "plt.grid(True)\n",
    "plt.show()"
   ]
  },
  {
   "cell_type": "code",
   "execution_count": null,
   "metadata": {
    "id": "y9PPxA1257gX"
   },
   "outputs": [],
   "source": []
  },
  {
   "cell_type": "code",
   "execution_count": null,
   "metadata": {},
   "outputs": [],
   "source": []
  },
  {
   "cell_type": "markdown",
   "metadata": {
    "id": "RX0Gq2jn473i"
   },
   "source": [
    "## ROC Curve Analysis"
   ]
  },
  {
   "cell_type": "code",
   "execution_count": 28,
   "metadata": {
    "colab": {
     "base_uri": "https://localhost:8080/",
     "height": 581
    },
    "id": "m1yFUTTQ473i",
    "outputId": "694d53d1-3e24-4e8e-b34b-837d0283ceeb"
   },
   "outputs": [
    {
     "data": {
      "image/png": "[encoded data removed]",
      "text/plain": [
       "<Figure size 800x600 with 1 Axes>"
      ]
     },
     "metadata": {},
     "output_type": "display_data"
    },
    {
     "name": "stdout",
     "output_type": "stream",
     "text": [
      "AUC Score: 0.9509\n"
     ]
    }
   ],
   "source": [
    "# ROC Curve Analysis\n",
    "fpr, tpr, thresholds = roc_curve(df['is_turnover'], df['predicted_prob'])\n",
    "auc_score = roc_auc_score(df['is_turnover'], df['predicted_prob'])\n",
    "\n",
    "plt.figure(figsize=(8, 6))\n",
    "plt.plot(fpr, tpr, color='blue', label=f'ROC curve (AUC = {auc_score:.2f})')\n",
    "plt.plot([0, 1], [0, 1], color='red', linestyle='--')\n",
    "plt.xlabel('False Positive Rate')\n",
    "plt.ylabel('True Positive Rate')\n",
    "plt.title('ROC Curve for Turnover Prediction')\n",
    "plt.legend(loc='lower right')\n",
    "plt.grid(True)\n",
    "plt.show()\n",
    "\n",
    "print(f\"AUC Score: {auc_score:.4f}\")\n",
    "# AUC = 0.5, model is no better than random guessing\n",
    "# AUC = 1.0, perfect discrimination (model never makes mistakes in predicting turnover)\n",
    "# An AUC of 0.95 means that if you randomly pick one employee who stayed and one who left,\n",
    "# there's a 95% chance the model will correctly assign a higher turnover probability to the one who actually left."
   ]
  },
  {
   "cell_type": "code",
   "execution_count": 29,
   "metadata": {
    "colab": {
     "base_uri": "https://localhost:8080/",
     "height": 641
    },
    "id": "xiFoPj0C473j",
    "outputId": "580ed763-6392-440c-d419-1cc8a7d68f08"
   },
   "outputs": [
    {
     "data": {
      "image/png": "[encoded data removed]",
      "text/plain": [
       "<Figure size 1000x700 with 1 Axes>"
      ]
     },
     "metadata": {},
     "output_type": "display_data"
    }
   ],
   "source": [
    "# Plotting with Seaborn\n",
    "plt.figure(figsize=(10, 7))\n",
    "sns.scatterplot(data=df, x='tenure_days', y='predicted_prob', hue='is_turnover', alpha=0.6)\n",
    "\n",
    "plt.title('Predicted Turnover Probability by Tenure')\n",
    "plt.xlabel('Tenure (Days)')\n",
    "plt.ylabel('Predicted Probability of Turnover')\n",
    "plt.legend(title='Actual Turnover')\n",
    "plt.grid(True)\n",
    "plt.show()"
   ]
  }
 ],
 "metadata": {
  "colab": {
   "provenance": []
  },
  "kernelspec": {
   "display_name": "Python 3 (ipykernel)",
   "language": "python",
   "name": "python3"
  },
  "language_info": {
   "codemirror_mode": {
    "name": "ipython",
    "version": 3
   },
   "file_extension": ".py",
   "mimetype": "text/x-python",
   "name": "python",
   "nbconvert_exporter": "python",
   "pygments_lexer": "ipython3",
   "version": "3.12.3"
  }
 },
 "nbformat": 4,
 "nbformat_minor": 4
}
